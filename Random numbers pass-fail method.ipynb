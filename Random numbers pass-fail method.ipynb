{
 "cells": [
  {
   "cell_type": "code",
   "execution_count": 4,
   "id": "66a3c76e",
   "metadata": {},
   "outputs": [],
   "source": [
    "import uproot\n",
    "import uproot_methods.classes.TLorentzVector as LVepm\n",
    "import matplotlib.pyplot as plt\n",
    "import time\n",
    "import infofile\n",
    "import numpy as np\n",
    "import mplhep as hep\n",
    "from scipy import stats\n",
    "\n",
    "import matplotlib.pyplot as plt\n",
    "import pandas as pd\n",
    "\n",
    "from scipy.stats import poisson\n",
    "from scipy.stats import norm"
   ]
  },
  {
   "cell_type": "code",
   "execution_count": 41,
   "id": "73691437",
   "metadata": {},
   "outputs": [
    {
     "name": "stdout",
     "output_type": "stream",
     "text": [
      "0.39843380169134646\n"
     ]
    }
   ],
   "source": [
    "nsteps=100\n",
    "ntoys=10000\n",
    "\n",
    "x_min = -5.0\n",
    "x_max = 5.0\n",
    "\n",
    "x = np.linspace(x_min, x_max, nsteps)\n",
    "y = norm.pdf(x, 0, 1.0)\n",
    "\n",
    "max_y = np.max(y)\n",
    "\n",
    "print(max_y)\n",
    "\n",
    "pass_fail = np.array([])\n",
    "\n",
    "uniform_toys = np.random.uniform(x_min, x_max, size=ntoys)\n",
    "\n",
    "for itoy in range(0, ntoys):\n",
    "    toy = uniform_toys[itoy]\n",
    "    # keep or drop?\n",
    "    test_toy = np.random.uniform(0, max_y, size=1)\n",
    "    if (test_toy > norm.pdf(toy, 0, 1.0) ):\n",
    "        #drop!\n",
    "        pass_fail = np.append(pass_fail,0)\n",
    "    else:\n",
    "        #keep\n",
    "        pass_fail = np.append(pass_fail, 1)\n",
    "\n",
    "output_array = uniform_toys[pass_fail>0]\n"
   ]
  },
  {
   "cell_type": "code",
   "execution_count": 42,
   "id": "47772db2",
   "metadata": {},
   "outputs": [
    {
     "data": {
      "image/png": "[encoded data removed]",
      "text/plain": [
       "<Figure size 720x288 with 1 Axes>"
      ]
     },
     "metadata": {
      "needs_background": "light"
     },
     "output_type": "display_data"
    }
   ],
   "source": [
    "#toys = np.random.normal(size=nEvents)\n",
    "df = pd.DataFrame(output_array, columns=['toys'])\n",
    "dataCounts, dataBins = np.histogram(df, bins=x, density=True)\n",
    "binCentres = (dataBins[:-1] + dataBins[1:]) / 2\n",
    "width = np.diff(dataBins)\n",
    "\n",
    "#plt.figure()\n",
    "fig, ax = plt.subplots(figsize=(10, 4), tight_layout=True)\n",
    "\n",
    "ax = plt.gca()\n",
    "labely = ax.set_xlabel(\"$x$\", fontsize = 18)\n",
    "labely = ax.set_ylabel(\"f($x$)\", fontsize = 18)\n",
    "\n",
    "x = np.linspace(-5.0, 5.0, 100)\n",
    "ax.plot(x, norm.pdf(x, 0, 1.0), 'r-', lw=5, alpha=0.6, label=r'Gaussian ($\\mu$=0, $\\sigma$=1)')\n",
    "plt.bar(binCentres, dataCounts, align='center', width=width, label='Pass/Fail toys', color='b')\n",
    "\n",
    "plt.xlim(-7, 7)\n",
    "plt.ylim(0, 1)\n",
    "\n",
    "legend = ax.legend(loc='upper left', fontsize='large', ncol=1)\n",
    "\n",
    "plt.show() \n",
    "plt.close()"
   ]
  }
 ],
 "metadata": {
  "kernelspec": {
   "display_name": "Python 3 (ipykernel)",
   "language": "python",
   "name": "python3"
  },
  "language_info": {
   "codemirror_mode": {
    "name": "ipython",
    "version": 3
   },
   "file_extension": ".py",
   "mimetype": "text/x-python",
   "name": "python",
   "nbconvert_exporter": "python",
   "pygments_lexer": "ipython3",
   "version": "3.9.5"
  }
 },
 "nbformat": 4,
 "nbformat_minor": 5
}
